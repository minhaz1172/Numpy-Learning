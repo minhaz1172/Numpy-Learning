{
 "cells": [
  {
   "cell_type": "markdown",
   "metadata": {},
   "source": []
  },
  {
   "cell_type": "code",
   "execution_count": null,
   "metadata": {},
   "outputs": [
    {
     "name": "stdout",
     "output_type": "stream",
     "text": [
      "[1 2 3 4 5]\n",
      "<class 'numpy.ndarray'>\n",
      "[[1 2 3]\n",
      " [4 5 6]]\n",
      "[[[ 1  2  3]\n",
      "  [ 4  5  6]]\n",
      "\n",
      " [[ 7  8  9]\n",
      "  [10 11 12]]]\n",
      "3\n",
      "[2 3 4]\n",
      "5\n",
      "11\n",
      "[3 4]\n",
      "int64\n",
      "(5,)\n",
      "(2, 3)\n",
      "(2, 2, 3)\n",
      "[[ 1  2  3]\n",
      " [ 4  5  6]\n",
      " [ 7  8  9]\n",
      " [10 11 12]]\n"
     ]
    }
   ],
   "source": [
    "#import numpy\n",
    "import numpy as np\n",
    "\n",
    "#numpy array\n",
    "arr=np.array([1,2,3,4,5])\n",
    "print(arr)\n",
    "#print type of array\n",
    "print(type(arr))\n",
    "#numpy 2d array\n",
    "arr2=np.array([[1,2,3],[4,5,6]])\n",
    "print(arr2)\n",
    "#3d array\n",
    "arr3=np.array([[[1,2,3],[4,5,6]],[[7,8,9],[10,11,12]]])\n",
    "print(arr3)\n",
    "#print dimension of array\n",
    "print(arr3.ndim)\n",
    "\n",
    "#array slicing\n",
    "print(arr[1:4])\n",
    "print(arr2[1,1])\n",
    "print(arr3[1,1,1])\n",
    "#negative slicing\n",
    "print(arr[-3:-1])\n",
    "#numpy data type\n",
    "print(arr.dtype)\n",
    "#numpy shape\n",
    "print(arr.shape)\n",
    "print(arr2.shape)\n",
    "print(arr3.shape)\n",
    "\n",
    "#RESHAPING array\n",
    "arr4=np.array([1,2,3,4,5,6,7,8,9,10,11,12])\n",
    "newarr=arr4.reshape(4,3)\n",
    "print(newarr)\n",
    "\n"
   ]
  }
 ],
 "metadata": {
  "kernelspec": {
   "display_name": "Python 3",
   "language": "python",
   "name": "python3"
  },
  "language_info": {
   "codemirror_mode": {
    "name": "ipython",
    "version": 3
   },
   "file_extension": ".py",
   "mimetype": "text/x-python",
   "name": "python",
   "nbconvert_exporter": "python",
   "pygments_lexer": "ipython3",
   "version": "3.11.9"
  }
 },
 "nbformat": 4,
 "nbformat_minor": 2
}
